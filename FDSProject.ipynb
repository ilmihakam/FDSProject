{"cells":[{"cell_type":"code","execution_count":1,"metadata":{},"outputs":[],"source":["import pandas as pd\n","import matplotlib as mlt\n","import seaborn as sb\n","import numpy as np"]}],"metadata":{"kernelspec":{"display_name":"Python 3","language":"python","name":"python3"},"language_info":{"codemirror_mode":{"name":"ipython","version":3},"file_extension":".py","mimetype":"text/x-python","name":"python","nbconvert_exporter":"python","pygments_lexer":"ipython3","version":"3.11.4"}},"nbformat":4,"nbformat_minor":2}
excel_url = "https://drive.usercontent.google.com/download?id=1Kyi7dUNFs4IpXXGoQkwsvR5cjKUSruSf&export=download&authuser=0&confirm=t&uuid=80dfdcc0-d04d-416d-ad3f-fde53e400c9e&at=APZUnTVA_AXUmi2vAVIzSUUwaX3T:1711112289447"

# Read Excel file from the URL
df = pd.read_excel(excel_url)
