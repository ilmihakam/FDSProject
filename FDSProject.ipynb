{"cells":[{"cell_type":"code","execution_count":1,"metadata":{},"outputs":[],"source":["import pandas as pd\n","import matplotlib as mlt\n","import seaborn as sb\n","import numpy as np"]}],"metadata":{"kernelspec":{"display_name":"Python 3","language":"python","name":"python3"},"language_info":{"codemirror_mode":{"name":"ipython","version":3},"file_extension":".py","mimetype":"text/x-python","name":"python","nbconvert_exporter":"python","pygments_lexer":"ipython3","version":"3.11.4"}},"nbformat":4,"nbformat_minor":2}
# SharePoint CSV file URL
sharepoint_csv_url = "https://uoe.sharepoint.com/:x:/r/sites/FDS975-Project/Shared%20Documents/Project/FDS-23-24/2023-24-CW3-datasets/ultramarathon_records/TWO_CENTURIES_OF_UM_RACES.csv?d=wa88244844d0c4ea681de8d2c7a777207&csf=1&web=1&e=BDC5t3"

# Read CSV file from SharePoint
df = pd.read_csv(sharepoint_csv_url)
