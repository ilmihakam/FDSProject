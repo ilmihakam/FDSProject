{"cells":[{"cell_type":"code","execution_count":1,"metadata":{},"outputs":[],"source":["import pandas as pd\n","import matplotlib as mlt\n","import seaborn as sb\n","import numpy as np"]}],"metadata":{"kernelspec":{"display_name":"Python 3","language":"python","name":"python3"},"language_info":{"codemirror_mode":{"name":"ipython","version":3},"file_extension":".py","mimetype":"text/x-python","name":"python","nbconvert_exporter":"python","pygments_lexer":"ipython3","version":"3.11.4"}},"nbformat":4,"nbformat_minor":2}
# Azure Blob Storage URL of the Excel file
azure_excel_url = "https://ofslivefs.blob.core.windows.net/files/NSS%20data%202023/August%202023/230901/NSS23_Summary_Registered_Full-time.xlsx"

# Load Excel data into DataFrame
df = pd.read_excel(azure_excel_url)

# Now you can work with the columns
# For example:

# Access the first column
first_column = df.iloc[:, 0]

# Access the second column
second_column = df.iloc[:, 1]

# Print the first 5 rows of the DataFrame
print(df.head())
